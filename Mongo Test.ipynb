{
 "cells": [
  {
   "cell_type": "code",
   "execution_count": 1,
   "metadata": {},
   "outputs": [],
   "source": [
    "import mongo_api"
   ]
  },
  {
   "cell_type": "code",
   "execution_count": 2,
   "metadata": {},
   "outputs": [],
   "source": [
    "# 請輸入帳密\n",
    "User = \"\"\n",
    "Password = \"\""
   ]
  },
  {
   "cell_type": "code",
   "execution_count": 3,
   "metadata": {},
   "outputs": [],
   "source": [
    "MongoSettings = {\n",
    "    \"ServerIP\": \"172.19.1.90\", #正式區\n",
    "    \"ServerName\": \"MongoDB\",\n",
    "    \"ServerPort\": \"27017\",\n",
    "    \"User\": \"{0}\".format(User),\n",
    "    \"Password\": \"{0}\".format(Password),\n",
    "    \"Database\": \"ChatHoHo\",\n",
    "    \"AuthSource\": \"ChatHoHo\",\n",
    "    \"dbTimeout\": 60 #(單位:分鐘)\n",
    "  }"
   ]
  },
  {
   "cell_type": "code",
   "execution_count": 4,
   "metadata": {
    "scrolled": false
   },
   "outputs": [],
   "source": [
    "mg_DB = mongo_api.MongoHandeler(MongoSettings['ServerIP'], MongoSettings['AuthSource'], MongoSettings['User'], MongoSettings['Password'])"
   ]
  },
  {
   "cell_type": "code",
   "execution_count": 5,
   "metadata": {
    "scrolled": false
   },
   "outputs": [
    {
     "name": "stdout",
     "output_type": "stream",
     "text": [
      "Create Col. :\n",
      "inserted_id: 61c178bf184d9b383b4c94fb\n",
      "Delete Col. :\n",
      "{'nIndexesWas': 1, 'ns': 'ChatHoHo.TestCollection', 'ok': 1.0}\n"
     ]
    }
   ],
   "source": [
    "# 測試集合建置刪除\n",
    "\n",
    "result = mg_DB.Insert('TestCollection', MongoSettings, True)\n",
    "msg = result.get('Msg')\n",
    "print('Create Col. :')\n",
    "print(msg)\n",
    "\n",
    "result = mg_DB.DropCol('TestCollection')\n",
    "msg = result.get('Msg')\n",
    "print('Delete Col. :')\n",
    "print(msg)"
   ]
  },
  {
   "cell_type": "code",
   "execution_count": null,
   "metadata": {},
   "outputs": [],
   "source": []
  }
 ],
 "metadata": {
  "kernelspec": {
   "display_name": "Python 3 (ipykernel)",
   "language": "python",
   "name": "python3"
  },
  "language_info": {
   "codemirror_mode": {
    "name": "ipython",
    "version": 3
   },
   "file_extension": ".py",
   "mimetype": "text/x-python",
   "name": "python",
   "nbconvert_exporter": "python",
   "pygments_lexer": "ipython3",
   "version": "3.9.7"
  }
 },
 "nbformat": 4,
 "nbformat_minor": 4
}
